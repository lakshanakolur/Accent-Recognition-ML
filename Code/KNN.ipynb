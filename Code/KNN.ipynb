{
 "cells": [
  {
   "cell_type": "code",
   "execution_count": 14,
   "metadata": {},
   "outputs": [],
   "source": [
    "from sklearn.neighbors import NearestNeighbors\n",
    "from sklearn.neighbors import KNeighborsClassifier\n",
    "import sklearn\n",
    "from __future__ import print_function\n",
    "import librosa\n",
    "import numpy as np\n",
    "import matplotlib.pyplot as plt\n",
    "from librosa import display,core\n",
    "from dtw import dtw\n",
    "from numpy import linalg as LA\n",
    "from math import sqrt\n",
    "from scipy import stats\n",
    "from sklearn import svm\n",
    "from sklearn.svm import SVR\n",
    "from mlxtend.plotting import plot_decision_regions\n",
    "import matplotlib.patches as mpatches\n",
    "from sklearn.model_selection import cross_val_predict, cross_val_score,cross_validate\n",
    "from sklearn import metrics\n",
    "from mlxtend.plotting import plot_confusion_matrix\n",
    "from sklearn.metrics import confusion_matrix\n",
    "from sklearn.model_selection import train_test_split\n",
    "import time\n",
    "from sklearn.model_selection import StratifiedKFold\n",
    "\n",
    "from collections import Counter\n",
    "\n",
    "from imblearn.over_sampling import RandomOverSampler\n",
    "#%matplotlib inline"
   ]
  },
  {
   "cell_type": "markdown",
   "metadata": {},
   "source": [
    "# Link\n",
    "https://www.researchgate.net/post/How_can_I_select_13_MFCC_coefficients"
   ]
  },
  {
   "cell_type": "markdown",
   "metadata": {},
   "source": [
    "# K-NN Classifier\n",
    "\n",
    "## createTrainingData()\n",
    "##### returns a training data set and labels\n",
    "- Calculates MFCC's for the two audio signals, American(0) and Indian(1).\n",
    "- The first MFCC feature is discareded.\n",
    "- The K-NN classifier takes vectors which have 19 features of the 5th frame of the audio signal."
   ]
  },
  {
   "cell_type": "code",
   "execution_count": 2,
   "metadata": {
    "collapsed": true
   },
   "outputs": [],
   "source": [
    "def createTrainingData(start, end):\n",
    "    samples = []\n",
    "    l1=[376,248,251]\n",
    "    l2=[334,339,294]\n",
    "     \n",
    "    '''a,s=librosa.load(\"C:\\\\Users\\\\Dell\\\\Desktop\\\\appa.m4a\")\n",
    "    mfcc1= librosa.feature.mfcc(y=a,sr=s)\n",
    "    newind=[]\n",
    "    concatfeatures(newind,mfcc1)\n",
    "    newind=np.asarray(newind)\n",
    "    #for v in range(10):\n",
    "    samples.append([newind[0],1))'''\n",
    "   # print(newind[0])\n",
    "    for q,r in zip (l1,l2):\n",
    "       \n",
    "        for i in range(1,10):\n",
    "            ind=0\n",
    "            am=0\n",
    "            try: \n",
    "                a,s=librosa.load(\"../Indian/p\"+str(q)+\"_00\"+str(i)+\".wav\")\n",
    "            except:\n",
    "                ind=1\n",
    "            try:\n",
    "                b,t=librosa.load(\"../American/p\"+str(r)+\"_00\"+str(i)+\".wav\")\n",
    "            except:\n",
    "                am=1\n",
    "            if(ind==0 and am==0):\n",
    "                mfcc1= librosa.feature.mfcc(y=a,sr=s)\n",
    "                mfcc2= librosa.feature.mfcc(y=b,sr=t)\n",
    "                temp1=mfcc1.T[1][start:end]\n",
    "                temp2=mfcc2.T[1][start:end]\n",
    "                for frame in range(10,50):\n",
    "                    temp1=np.concatenate((temp1,mfcc1.T[frame][start:end]))\n",
    "                    temp2=np.concatenate((temp2,mfcc2.T[frame][start:end]))\n",
    "                samples.append([temp1,1])\n",
    "                samples.append([temp2,0])              \n",
    "                print('*', end=' ')\n",
    "                \n",
    "            elif(ind==0):\n",
    "                mfcc1= librosa.feature.mfcc(y=a,sr=s)\n",
    "                temp1=mfcc1.T[1][start:end]\n",
    "                for frame in range(10,50):\n",
    "                    temp1=np.concatenate((temp1,mfcc1.T[frame][start:end]))\n",
    "                samples.append([temp1,1])            \n",
    "                print('$', end=' ')\n",
    "            elif(am==0):\n",
    "                mfcc2= librosa.feature.mfcc(y=b,sr=t)\n",
    "                temp2=mfcc2.T[1][start:end]\n",
    "                for frame in range(10,50):\n",
    "                    temp2=np.concatenate((temp2,mfcc2.T[frame][start:end]))\n",
    "                samples.append([temp2,0])            \n",
    "                print('#', end=' ')\n",
    "            else: continue\n",
    "        print('\\n')\n",
    "        for i in range(10,100):\n",
    "            ind=0\n",
    "            am=0\n",
    "            try: \n",
    "                a,s=librosa.load(\"../Indian/p\"+str(q)+\"_0\"+str(i)+\".wav\")\n",
    "            except:\n",
    "                ind=1\n",
    "            try:\n",
    "                b,t=librosa.load(\"../American/p\"+str(r)+\"_0\"+str(i)+\".wav\")\n",
    "            except:\n",
    "                am=1\n",
    "            if(ind==0 and am==0):\n",
    "                mfcc1= librosa.feature.mfcc(y=a,sr=s)\n",
    "                mfcc2= librosa.feature.mfcc(y=b,sr=t)\n",
    "                temp1=mfcc1.T[1][start:end]\n",
    "                temp2=mfcc2.T[1][start:end]\n",
    "                for frame in range(10,50):\n",
    "                    temp1=np.concatenate((temp1,mfcc1.T[frame][start:end]))\n",
    "                    temp2=np.concatenate((temp2,mfcc2.T[frame][start:end]))\n",
    "                samples.append([temp1,1])\n",
    "                samples.append([temp2,0])              \n",
    "                print('*', end=' ')\n",
    "                \n",
    "            elif(ind==0):\n",
    "                mfcc1= librosa.feature.mfcc(y=a,sr=s)\n",
    "                temp1=mfcc1.T[1][start:end]\n",
    "                for frame in range(10,50):\n",
    "                    temp1=np.concatenate((temp1,mfcc1.T[frame][start:end]))\n",
    "                samples.append([temp1,1])            \n",
    "                print('$', end=' ')\n",
    "            elif(am==0):\n",
    "                mfcc2= librosa.feature.mfcc(y=b,sr=t)\n",
    "                temp2=mfcc2.T[1][start:end]\n",
    "                for frame in range(10,50):\n",
    "                    temp2=np.concatenate((temp2,mfcc2.T[frame][start:end]))\n",
    "                samples.append([temp2,0])            \n",
    "                print('#', end=' ')\n",
    "            else: continue\n",
    "        print('\\n')\n",
    "        for i in range(100,430):\n",
    "            ind=0\n",
    "            am=0\n",
    "            try: \n",
    "                a,s=librosa.load(\"../Indian/p\"+str(q)+\"_\"+str(i)+\".wav\")\n",
    "            except:\n",
    "                ind=1\n",
    "            try:\n",
    "                b,t=librosa.load(\"../American/p\"+str(r)+\"_\"+str(i)+\".wav\")\n",
    "            except:\n",
    "                am=1\n",
    "            if(ind==0 and am==0):\n",
    "                mfcc1= librosa.feature.mfcc(y=a,sr=s)\n",
    "                mfcc2= librosa.feature.mfcc(y=b,sr=t)\n",
    "                temp1=mfcc1.T[1][start:end]\n",
    "                temp2=mfcc2.T[1][start:end]\n",
    "                for frame in range(10,50):\n",
    "                    temp1=np.concatenate((temp1,mfcc1.T[frame][start:end]))\n",
    "                    temp2=np.concatenate((temp2,mfcc2.T[frame][start:end]))\n",
    "                samples.append([temp1,1])\n",
    "                samples.append([temp2,0])              \n",
    "                print('*', end=' ')\n",
    "                \n",
    "            elif(ind==0):\n",
    "                mfcc1= librosa.feature.mfcc(y=a,sr=s)\n",
    "                temp1=mfcc1.T[1][start:end]\n",
    "                for frame in range(10,50):\n",
    "                    temp1=np.concatenate((temp1,mfcc1.T[frame][start:end]))\n",
    "                samples.append([temp1,1])            \n",
    "                print('$', end=' ')\n",
    "            elif(am==0):\n",
    "                mfcc2= librosa.feature.mfcc(y=b,sr=t)\n",
    "                temp2=mfcc2.T[1][start:end]\n",
    "                for frame in range(10,50):\n",
    "                    temp2=np.concatenate((temp2,mfcc2.T[frame][start:end]))\n",
    "                samples.append([temp2,0])            \n",
    "                print('#', end=' ')\n",
    "            else: continue\n",
    "        print('\\n')\n",
    "   \n",
    "    print(len(samples))\n",
    "    X = [i[0] for i in samples]\n",
    "    Y = [j[1] for j in samples]\n",
    "    return X,Y\n",
    "\n",
    "def concatfeatures(realdata, mfcc1):\n",
    "    temp1=mfcc1.T[1][1:19]\n",
    "    for frame in range(10,50):\n",
    "        temp1=np.concatenate((temp1,mfcc1.T[frame][1:19]))\n",
    "    #print(temp1)\n",
    "    realdata.append(temp1)\n",
    "    \n",
    "def concatfeatures1(realdata, mfcc1):\n",
    "    temp1=mfcc1.T[1][1:13]\n",
    "    for frame in range(10,50):\n",
    "        temp1=np.concatenate((temp1,mfcc1.T[frame][1:13]))\n",
    "    #print(temp1)\n",
    "    realdata.append(temp1)"
   ]
  },
  {
   "cell_type": "markdown",
   "metadata": {},
   "source": [
    "## createTest(start, end)\n",
    "###### returns a testing dataset and the correct labels\n",
    "\n",
    "- Creates a data set of length (end-start)\n",
    "- Returns the actual labels to calculate accuracy"
   ]
  },
  {
   "cell_type": "code",
   "execution_count": 3,
   "metadata": {},
   "outputs": [
    {
     "name": "stdout",
     "output_type": "stream",
     "text": [
      "* * * * * * * * * \n",
      "\n",
      "* * * * * * * * * * * * * * * * * * * * * * * * * * * * * * * * * * * * * # * * * * * * * * * * * * * * # * * * * * * * * * * * * * * * * * * * * * * * * * * * * * * * * * * * * * \n",
      "\n",
      "* * * * * * * * * * * * * * * * * * * * * * * * * * * * * * * * * * * * * * * * * * * * * * * * * * * * $ * * * * * * * * * * * * * * * * * * * * * * * * * * * * * * * * * * * * * * * * * * * * * * * * * * * * * * * * * * * * * * * * * * * * * * * * * * * * * * * * * * * * * * * * * * * * * * * * * * * * * * * * * * * * * * * * * * * * * * * * * * * * * * * * # * * * * * * * * * * * * * * # # # # # # # # # # # # # # # # # # # # # # # # # # # # # # # # # # # # # # # # # # # # # # # # # # # # # # # # # # # # # # # # # # # # # # # # # # # # # # # # # # # # # # # # # # # # # # # # # # # # # # # # # # # # # # # # # # # # # # # # # # # # # # # # # \n",
      "\n",
      "* * * * * * * * * \n",
      "\n",
      "* * * * * * * * * * * * * * * * * * * * * * * * * * * * * * * * * * * * * * * * * * * * * * * * * * * * * * * * * * * * * * * * * * * * * * * * * * * * * * * * * * * * * * * * * * \n",
      "\n",
      "* * * * * * $ * * * * * * * * * * * * * * * * * * * * * * * * * * * * * * * * * * * * * * * * * * * * * * * * * * * * * * * * * * * * * * * * * * * * * * * * * * * * * * * * * * * * * * * * * * * * * * * * * * * * * * * * * * * * * * * * * * * * * * * * * * * * * * * * * * * * * * * * * * * * * * * * * * * * * * * * * * * * * * * * * * * * * * * * * * * * * * * * * * * * * * * * * * * * * * * * * * * * * * * * * * * * * * * * * * * * * * * * * * * * * * * * * * * * * * * * * * * * * * * * * * * * * * * * * * * * * * * * * * * * * * * * * * * * * * # # # # # # # # # # # # # # # # # # # # # # # # # # # # # # # # # # # # # # # # # # # # # # # # \n",
      "\n",
      "* * * * * * * * * \n",
      "\n",
      "* * * * * * * * * * * * * * * * * * * * * # * * * * * * * * * * * * * * * * * * * * * * * * * * * * * * * * * * * * * * * * * * * * * * * * * * * * * * # * * * * * * * * * * * * * \n",
      "\n",
      "* * * * * * * * * * * * * * * * * * * * * * * * * * * * * * * * * * * * * * * * * * * * * * * * * * * * * * * * * * * * * * * * * * * * * * * * * * * * * * * * * * * * * * * * * * * * * * * * * * * * * * * * * * * * * * * * * * * * * * * * * * * * * * * * * # * * * * * * * * * * * * * * * * $ * * * * * * * * * * * * * * # * * * * * * * * * * * * * * * # * * * * * * * * * * * * * * * * * * * * * * * * * * * * * * * * * * * * * * * * * * * * * * * * * * * * * * * * * * * * * * * * * * * * * * * * * * * * # * * * # * * * * # * * * * * * # # * * * # # # # # # # # # # # # # # # # # # # # # # # # # # # # # # # # # # # # # # # # # # # # # # # # # # \n",
      "\n",
      "2301\n"
     ]
    }
   ],
   "source": [
    "data , labels = createTrainingData(1,19)\n",
    "X_train, X_test, y_train, y_test  = train_test_split(data,labels)"
   ]
  },
  {
   "cell_type": "code",
   "execution_count": 4,
   "metadata": {
    "collapsed": true
   },
   "outputs": [],
   "source": [
    "def predict(X,Y,Z):\n",
    "    knn = KNeighborsClassifier(n_neighbors=5)\n",
    "    knn.fit(X,Y)\n",
    "    prediction = knn.predict(Z)\n",
    "    scores = cross_val_score(knn,data,labels)\n",
    "    print(scores.mean())\n",
    "    return (prediction)\n",
    "\n",
    "def printPrediction(prediction,actual_label):\n",
    "    print(\"1 -> Indian, 0-> American\\n\")\n",
    "    for i in range(len(prediction)):\n",
    "        print(\"Actual ->\",actual_label[i],\" Prediction ->\",prediction[i])\n",
    "\n",
    "def accuracy(prediction,actual):\n",
    "    count=0\n",
    "    l=len(prediction)\n",
    "    for i in range(l):\n",
    "        if(prediction[i]==actual[i]):\n",
    "            count+=1\n",
    "    return count/l*100"
   ]
  },
  {
   "cell_type": "markdown",
   "metadata": {},
   "source": [
    "### After Oversampling"
   ]
  },
  {
   "cell_type": "code",
   "execution_count": 5,
   "metadata": {},
   "outputs": [
    {
     "data": {
      "text/plain": [
       "Counter({0: 1269, 1: 1032})"
      ]
     },
     "execution_count": 5,
     "metadata": {},
     "output_type": "execute_result"
    }
   ],
   "source": [
    "Counter(labels)"
   ]
  },
  {
   "cell_type": "code",
   "execution_count": 6,
   "metadata": {},
   "outputs": [
    {
     "name": "stdout",
     "output_type": "stream",
     "text": [
      "[(0, 950), (1, 950)]\n"
     ]
    }
   ],
   "source": [
    "X_train, X_test, y_train, y_test  = train_test_split(data,labels)\n",
    "ros = RandomOverSampler(random_state=0)\n",
    "X_resampled, y_resampled = ros.fit_resample(X_train, y_train)\n",
    "print(sorted(Counter(y_resampled).items()))"
   ]
  },
  {
   "cell_type": "code",
   "execution_count": 15,
   "metadata": {},
   "outputs": [
    {
     "name": "stderr",
     "output_type": "stream",
     "text": [
      "/Users/dweepa/anaconda/lib/python3.6/site-packages/sklearn/model_selection/_split.py:1943: FutureWarning: You should specify a value for 'cv' instead of relying on the default value. The default value will change from 3 to 5 in version 0.22.\n",
      "  warnings.warn(CV_WARNING, FutureWarning)\n"
     ]
    },
    {
     "name": "stdout",
     "output_type": "stream",
     "text": [
      "0.7974793568013907\n",
      "5.223753929138184\n",
      "\n",
      "Accuracy: 91.31944444444444\n"
     ]
    }
   ],
   "source": [
    "s= time.time()\n",
    "pred = predict(X_resampled,y_resampled,X_test)\n",
    "#printPrediction(prediction,y_train)\n",
    "print(time.time()-s)\n",
    "e = accuracy(pred,y_test)\n",
    "print(\"\\nAccuracy:\",e)"
   ]
  },
  {
   "cell_type": "code",
   "execution_count": 8,
   "metadata": {},
   "outputs": [
    {
     "data": {
      "text/plain": [
       "array([[293,  26],\n",
       "       [ 24, 233]])"
      ]
     },
     "execution_count": 8,
     "metadata": {},
     "output_type": "execute_result"
    }
   ],
   "source": [
    "confusion_matrix(y_test, pred)"
   ]
  },
  {
   "cell_type": "code",
   "execution_count": 9,
   "metadata": {},
   "outputs": [
    {
     "data": {
      "text/plain": [
       "(293, 26, 24, 233)"
      ]
     },
     "execution_count": 9,
     "metadata": {},
     "output_type": "execute_result"
    }
   ],
   "source": [
    "(tn, fp), (fn, tp) = confusion_matrix(y_test,pred)\n",
    "(tn, fp, fn, tp)"
   ]
  },
  {
   "cell_type": "code",
   "execution_count": 10,
   "metadata": {},
   "outputs": [
    {
     "data": {
      "image/png": "[encoded data removed]",
      "text/plain": [
       "<matplotlib.figure.Figure at 0x1c29d2ecf8>"
      ]
     },
     "metadata": {},
     "output_type": "display_data"
    },
    {
     "data": {
      "image/png": "[encoded data removed]",
      "text/plain": [
       "<matplotlib.figure.Figure at 0x1c29d2e940>"
      ]
     },
     "metadata": {},
     "output_type": "display_data"
    }
   ],
   "source": [
    "def plotCurve(y_test1,y_pred,name):   \n",
    "    fpr, tpr, thresholds = metrics.roc_curve(y_test1, y_pred)\n",
    "    roc_auc = metrics.auc(fpr, tpr)\n",
    "    plt.title('Receiver Operating Characteristic')\n",
    "    plt.plot(fpr, tpr, 'b', label = 'AUC = %0.2f' % roc_auc)\n",
    "    plt.legend(loc = 'lower right')\n",
    "    plt.plot([0, 1], [0, 1],'r--')\n",
    "    plt.xlim([0, 1])\n",
    "    plt.ylim([0, 1])\n",
    "    plt.ylabel('True Positive Rate')\n",
    "    plt.xlabel('False Positive Rate')\n",
    "    name = '../'+name+'.png'\n",
    "    plt.savefig(name)\n",
    "    plt.show()\n",
    "    return roc_auc\n",
    "auc = plotCurve(y_test,pred,'knn-aoc')\n",
    "\n",
    "binary = confusion_matrix(y_test,pred)\n",
    "fig, ax = plot_confusion_matrix(conf_mat=binary)\n",
    "n = '../knn.png'\n",
    "plt.savefig(n)\n",
    "plt.show()"
   ]
  },
  {
   "cell_type": "code",
   "execution_count": 11,
   "metadata": {
    "collapsed": true
   },
   "outputs": [],
   "source": [
    "precision = round(tp/(tp+fp),4)\n",
    "recall = round(tp/(tp+fn),4)\n",
    "fmeasure = round(2*((precision*recall)/(precision+recall)),4)\n",
    "rej = round(tn/(tn+fp),4)\n",
    "acc = round((tn+tp)/(tn+tp+fp+fn),4)"
   ]
  },
  {
   "cell_type": "code",
   "execution_count": 12,
   "metadata": {
    "scrolled": true
   },
   "outputs": [
    {
     "name": "stdout",
     "output_type": "stream",
     "text": [
      "0.8996 0.9066 0.9031 0.9185 0.9132\n"
     ]
    }
   ],
   "source": [
    "print(precision,recall,fmeasure,rej,acc)"
   ]
  },
  {
   "cell_type": "code",
   "execution_count": 13,
   "metadata": {},
   "outputs": [
    {
     "data": {
      "text/plain": [
       "(0.9044808824968541, 0.055170922163789916)"
      ]
     },
     "execution_count": 13,
     "metadata": {},
     "output_type": "execute_result"
    }
   ],
   "source": [
    "knn = KNeighborsClassifier(5)\n",
    "scores = cross_val_score(knn, data, labels, cv=10, scoring='f1_macro')\n",
    "scores.mean(),scores.std()                                             "
   ]
  },
  {
   "cell_type": "code",
   "execution_count": null,
   "metadata": {
    "collapsed": true
   },
   "outputs": [],
   "source": []
  }
 ],
 "metadata": {
  "kernelspec": {
   "display_name": "Python 3",
   "language": "python",
   "name": "python3"
  },
  "language_info": {
   "codemirror_mode": {
    "name": "ipython",
    "version": 3
   },
   "file_extension": ".py",
   "mimetype": "text/x-python",
   "name": "python",
   "nbconvert_exporter": "python",
   "pygments_lexer": "ipython3",
   "version": "3.6.1"
  }
 },
 "nbformat": 4,
 "nbformat_minor": 2
}
