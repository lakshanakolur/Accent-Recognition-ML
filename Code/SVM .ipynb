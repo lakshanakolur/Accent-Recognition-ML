{
 "cells": [
  {
   "cell_type": "code",
   "execution_count": 1,
   "metadata": {},
   "outputs": [
    {
     "name": "stderr",
     "output_type": "stream",
     "text": [
      "/Users/dweepa/anaconda/lib/python3.6/site-packages/h5py/__init__.py:34: FutureWarning: Conversion of the second argument of issubdtype from `float` to `np.floating` is deprecated. In future, it will be treated as `np.float64 == np.dtype(float).type`.\n",
      "  from ._conv import register_converters as _register_converters\n",
      "Using TensorFlow backend.\n"
     ]
    }
   ],
   "source": [
    "from sklearn.neighbors import NearestNeighbors\n",
    "from sklearn.neighbors import KNeighborsClassifier\n",
    "import sklearn\n",
    "from __future__ import print_function\n",
    "import librosa\n",
    "import numpy as np\n",
    "import matplotlib.pyplot as plt\n",
    "from librosa import display,core\n",
    "from dtw import dtw\n",
    "from numpy import linalg as LA\n",
    "from math import sqrt\n",
    "from scipy import stats\n",
    "from sklearn import svm\n",
    "from sklearn.svm import SVR\n",
    "from mlxtend.plotting import plot_decision_regions\n",
    "import matplotlib.patches as mpatches\n",
    "from sklearn.model_selection import cross_val_predict, cross_val_score,cross_validate\n",
    "from sklearn import metrics\n",
    "from mlxtend.plotting import plot_confusion_matrix\n",
    "from sklearn.model_selection import train_test_split\n",
    "from sklearn.metrics import confusion_matrix\n",
    "\n",
    "from collections import Counter\n",
    "\n",
    "from imblearn.over_sampling import RandomOverSampler\n",
    "#%matplotlib inline"
   ]
  },
  {
   "cell_type": "markdown",
   "metadata": {},
   "source": [
    "# Link\n",
    "https://www.researchgate.net/post/How_can_I_select_13_MFCC_coefficients"
   ]
  },
  {
   "cell_type": "code",
   "execution_count": 2,
   "metadata": {
    "collapsed": true
   },
   "outputs": [],
   "source": [
    "def accuracy(prediction,actual):\n",
    "    count=0\n",
    "    l=len(prediction)\n",
    "    for i in range(l):\n",
    "        if(prediction[i]==actual[i]):\n",
    "            count+=1\n",
    "    return count/l*100"
   ]
  },
  {
   "cell_type": "code",
   "execution_count": 3,
   "metadata": {
    "collapsed": true
   },
   "outputs": [],
   "source": [
    "def createTrainingData(start, end):\n",
    "    samples = []\n",
    "    l1=[376,248,251]\n",
    "    l2=[334,339,294]\n",
    "    \n",
    "    for q,r in zip (l1,l2):\n",
    "       \n",
    "        for i in range(1,10):\n",
    "            ind=0\n",
    "            am=0\n",
    "            try: \n",
    "                a,s=librosa.load(\"../Indian/p\"+str(q)+\"_00\"+str(i)+\".wav\")\n",
    "            except:\n",
    "                ind=1\n",
    "            try:\n",
    "                b,t=librosa.load(\"../American/p\"+str(r)+\"_00\"+str(i)+\".wav\")\n",
    "            except:\n",
    "                am=1\n",
    "            if(ind==0 and am==0):\n",
    "                mfcc1= librosa.feature.mfcc(y=a,sr=s)\n",
    "                mfcc2= librosa.feature.mfcc(y=b,sr=t)\n",
    "                temp1=mfcc1.T[1][start:end]\n",
    "                temp2=mfcc2.T[1][start:end]\n",
    "                for frame in range(10,50):\n",
    "                    temp1=np.concatenate((temp1,mfcc1.T[frame][start:end]))\n",
    "                    temp2=np.concatenate((temp2,mfcc2.T[frame][start:end]))\n",
    "                samples.append([temp1,1])\n",
    "                samples.append([temp2,0])              \n",
    "                print('*', end=' ')\n",
    "                \n",
    "            elif(ind==0):\n",
    "                mfcc1= librosa.feature.mfcc(y=a,sr=s)\n",
    "                temp1=mfcc1.T[1][start:end]\n",
    "                for frame in range(10,50):\n",
    "                    temp1=np.concatenate((temp1,mfcc1.T[frame][start:end]))\n",
    "                samples.append([temp1,1])            \n",
    "                print('$', end=' ')\n",
    "            elif(am==0):\n",
    "                mfcc2= librosa.feature.mfcc(y=b,sr=t)\n",
    "                temp2=mfcc2.T[1][start:end]\n",
    "                for frame in range(10,50):\n",
    "                    temp2=np.concatenate((temp2,mfcc2.T[frame][start:end]))\n",
    "                samples.append([temp2,0])            \n",
    "                print('#', end=' ')\n",
    "            else: continue\n",
    "        print('\\n')\n",
    "        for i in range(10,100):\n",
    "            ind=0\n",
    "            am=0\n",
    "            try: \n",
    "                a,s=librosa.load(\"../Indian/p\"+str(q)+\"_0\"+str(i)+\".wav\")\n",
    "            except:\n",
    "                ind=1\n",
    "            try:\n",
    "                b,t=librosa.load(\"../American/p\"+str(r)+\"_0\"+str(i)+\".wav\")\n",
    "            except:\n",
    "                am=1\n",
    "            if(ind==0 and am==0):\n",
    "                mfcc1= librosa.feature.mfcc(y=a,sr=s)\n",
    "                mfcc2= librosa.feature.mfcc(y=b,sr=t)\n",
    "                temp1=mfcc1.T[1][start:end]\n",
    "                temp2=mfcc2.T[1][start:end]\n",
    "                for frame in range(10,50):\n",
    "                    temp1=np.concatenate((temp1,mfcc1.T[frame][start:end]))\n",
    "                    temp2=np.concatenate((temp2,mfcc2.T[frame][start:end]))\n",
    "                samples.append([temp1,1])\n",
    "                samples.append([temp2,0])              \n",
    "                print('*', end=' ')\n",
    "                \n",
    "            elif(ind==0):\n",
    "                mfcc1= librosa.feature.mfcc(y=a,sr=s)\n",
    "                temp1=mfcc1.T[1][start:end]\n",
    "                for frame in range(10,50):\n",
    "                    temp1=np.concatenate((temp1,mfcc1.T[frame][start:end]))\n",
    "                samples.append([temp1,1])            \n",
    "                print('$', end=' ')\n",
    "            elif(am==0):\n",
    "                mfcc2= librosa.feature.mfcc(y=b,sr=t)\n",
    "                temp2=mfcc2.T[1][start:end]\n",
    "                for frame in range(10,50):\n",
    "                    temp2=np.concatenate((temp2,mfcc2.T[frame][start:end]))\n",
    "                samples.append([temp2,0])            \n",
    "                print('#', end=' ')\n",
    "            else: continue\n",
    "        print('\\n')\n",
    "        for i in range(100,430):\n",
    "            ind=0\n",
    "            am=0\n",
    "            try: \n",
    "                a,s=librosa.load(\"../Indian/p\"+str(q)+\"_\"+str(i)+\".wav\")\n",
    "            except:\n",
    "                ind=1\n",
    "            try:\n",
    "                b,t=librosa.load(\"../American/p\"+str(r)+\"_\"+str(i)+\".wav\")\n",
    "            except:\n",
    "                am=1\n",
    "            if(ind==0 and am==0):\n",
    "                mfcc1= librosa.feature.mfcc(y=a,sr=s)\n",
    "                mfcc2= librosa.feature.mfcc(y=b,sr=t)\n",
    "                temp1=mfcc1.T[1][start:end]\n",
    "                temp2=mfcc2.T[1][start:end]\n",
    "                for frame in range(10,50):\n",
    "                    temp1=np.concatenate((temp1,mfcc1.T[frame][start:end]))\n",
    "                    temp2=np.concatenate((temp2,mfcc2.T[frame][start:end]))\n",
    "                samples.append([temp1,1])\n",
    "                samples.append([temp2,0])              \n",
    "                print('*', end=' ')\n",
    "                \n",
    "            elif(ind==0):\n",
    "                mfcc1= librosa.feature.mfcc(y=a,sr=s)\n",
    "                temp1=mfcc1.T[1][start:end]\n",
    "                for frame in range(10,50):\n",
    "                    temp1=np.concatenate((temp1,mfcc1.T[frame][start:end]))\n",
    "                samples.append([temp1,1])            \n",
    "                print('$', end=' ')\n",
    "            elif(am==0):\n",
    "                mfcc2= librosa.feature.mfcc(y=b,sr=t)\n",
    "                temp2=mfcc2.T[1][start:end]\n",
    "                for frame in range(10,50):\n",
    "                    temp2=np.concatenate((temp2,mfcc2.T[frame][start:end]))\n",
    "                samples.append([temp2,0])            \n",
    "                print('#', end=' ')\n",
    "            else: continue\n",
    "        print('\\n')\n",
    "   \n",
    "    print(len(samples))\n",
    "    X = [i[0] for i in samples]\n",
    "    Y = [j[1] for j in samples]\n",
    "    return X,Y\n",
    "\n",
    "def concatfeatures(realdata, mfcc1):\n",
    "    temp1=mfcc1.T[1][1:19]\n",
    "    for frame in range(10,50):\n",
    "        temp1=np.concatenate((temp1,mfcc1.T[frame][1:19]))\n",
    "    #print(temp1)\n",
    "    realdata.append(temp1)\n",
    "    \n",
    "def concatfeatures1(realdata, mfcc1):\n",
    "    temp1=mfcc1.T[1][1:13]\n",
    "    for frame in range(10,50):\n",
    "        temp1=np.concatenate((temp1,mfcc1.T[frame][1:13]))\n",
    "    #print(temp1)\n",
    "    realdata.append(temp1)"
   ]
  },
  {
   "cell_type": "code",
   "execution_count": 4,
   "metadata": {},
   "outputs": [
    {
     "name": "stdout",
     "output_type": "stream",
     "text": [
      "* * * * * * * * * \n",
      "\n",
      "* * * * * * * * * * * * * * * * * * * * * * * * * * * * * * * * * * * * * # * * * * * * * * * * * * * * # * * * * * * * * * * * * * * * * * * * * * * * * * * * * * * * * * * * * * \n",
      "\n",
      "* * * * * * * * * * * * * * * * * * * * * * * * * * * * * * * * * * * * * * * * * * * * * * * * * * * * $ * * * * * * * * * * * * * * * * * * * * * * * * * * * * * * * * * * * * * * * * * * * * * * * * * * * * * * * * * * * * * * * * * * * * * * * * * * * * * * * * * * * * * * * * * * * * * * * * * * * * * * * * * * * * * * * * * * * * * * * * * * * * * * * * # * * * * * * * * * * * * * * # # # # # # # # # # # # # # # # # # # # # # # # # # # # # # # # # # # # # # # # # # # # # # # # # # # # # # # # # # # # # # # # # # # # # # # # # # # # # # # # # # # # # # # # # # # # # # # # # # # # # # # # # # # # # # # # # # # # # # # # # # # # # # # # # \n",
      "\n",
      "* * * * * * * * * \n",
      "\n",
      "* * * * * * * * * * * * * * * * * * * * * * * * * * * * * * * * * * * * * * * * * * * * * * * * * * * * * * * * * * * * * * * * * * * * * * * * * * * * * * * * * * * * * * * * * * \n",
      "\n",
      "* * * * * * $ * * * * * * * * * * * * * * * * * * * * * * * * * * * * * * * * * * * * * * * * * * * * * * * * * * * * * * * * * * * * * * * * * * * * * * * * * * * * * * * * * * * * * * * * * * * * * * * * * * * * * * * * * * * * * * * * * * * * * * * * * * * * * * * * * * * * * * * * * * * * * * * * * * * * * * * * * * * * * * * * * * * * * * * * * * * * * * * * * * * * * * * * * * * * * * * * * * * * * * * * * * * * * * * * * * * * * * * * * * * * * * * * * * * * * * * * * * * * * * * * * * * * * * * * * * * * * * * * * * * * * * * * * * * * * * # # # # # # # # # # # # # # # # # # # # # # # # # # # # # # # # # # # # # # # # # # # # # # # # \n",
      "\n",
      "* * * * * * * * * \n",
      "\n",
      "* * * * * * * * * * * * * * * * * * * * * # * * * * * * * * * * * * * * * * * * * * * * * * * * * * * * * * * * * * * * * * * * * * * * * * * * * * * * # * * * * * * * * * * * * * \n",
      "\n",
      "* * * * * * * * * * * * * * * * * * * * * * * * * * * * * * * * * * * * * * * * * * * * * * * * * * * * * * * * * * * * * * * * * * * * * * * * * * * * * * * * * * * * * * * * * * * * * * * * * * * * * * * * * * * * * * * * * * * * * * * * * * * * * * * * * # * * * * * * * * * * * * * * * * $ * * * * * * * * * * * * * * # * * * * * * * * * * * * * * * # * * * * * * * * * * * * * * * * * * * * * * * * * * * * * * * * * * * * * * * * * * * * * * * * * * * * * * * * * * * * * * * * * * * * * * * * * * * * # * * * # * * * * # * * * * * * # # * * * # # # # # # # # # # # # # # # # # # # # # # # # # # # # # # # # # # # # # # # # # # # # # # # # # # \n",
      "\n",
      "2301\n"
     ]
    }
   ],
   "source": [
    "clf4 = svm.SVC()\n",
    "data,label = createTrainingData(1,19)\n",
    "X_train, X_test, y_train, y_test = train_test_split(data, label, test_size = 0.2)"
   ]
  },
  {
   "cell_type": "code",
   "execution_count": 5,
   "metadata": {},
   "outputs": [
    {
     "data": {
      "text/plain": [
       "Counter({0: 1269, 1: 1032})"
      ]
     },
     "execution_count": 5,
     "metadata": {},
     "output_type": "execute_result"
    }
   ],
   "source": [
    "Counter(label)"
   ]
  },
  {
   "cell_type": "code",
   "execution_count": 6,
   "metadata": {},
   "outputs": [
    {
     "name": "stdout",
     "output_type": "stream",
     "text": [
      "[(0, 964), (1, 964)]\n"
     ]
    }
   ],
   "source": [
    "X_train, X_test, y_train, y_test  = train_test_split(data,label)\n",
    "ros = RandomOverSampler(random_state=0)\n",
    "X_resampled, y_resampled = ros.fit_resample(X_train, y_train)\n",
    "print(sorted(Counter(y_resampled).items()))"
   ]
  },
  {
   "cell_type": "code",
   "execution_count": 7,
   "metadata": {},
   "outputs": [
    {
     "name": "stderr",
     "output_type": "stream",
     "text": [
      "/Users/dweepa/anaconda/lib/python3.6/site-packages/sklearn/svm/base.py:196: FutureWarning: The default value of gamma will change from 'auto' to 'scale' in version 0.22 to account better for unscaled features. Set gamma explicitly to 'auto' or 'scale' to avoid this warning.\n",
      "  \"avoid this warning.\", FutureWarning)\n"
     ]
    },
    {
     "name": "stdout",
     "output_type": "stream",
     "text": [
      "Accuracy: 53.645833333333336\n"
     ]
    }
   ],
   "source": [
    "clf = svm.SVC()\n",
    "clf.fit(X_resampled,y_resampled)\n",
    "y_pred=clf.predict(X_test)\n",
    "print(\"Accuracy:\",accuracy(y_pred,y_test))"
   ]
  },
  {
   "cell_type": "code",
   "execution_count": 8,
   "metadata": {},
   "outputs": [
    {
     "data": {
      "text/plain": [
       "array([[305,   0],\n",
       "       [267,   4]])"
      ]
     },
     "execution_count": 8,
     "metadata": {},
     "output_type": "execute_result"
    }
   ],
   "source": [
    "confusion_matrix(y_test, y_pred.round())"
   ]
  },
  {
   "cell_type": "code",
   "execution_count": 9,
   "metadata": {},
   "outputs": [
    {
     "data": {
      "text/plain": [
       "(305, 0, 267, 4)"
      ]
     },
     "execution_count": 9,
     "metadata": {},
     "output_type": "execute_result"
    }
   ],
   "source": [
    "tn, fp, fn, tp = confusion_matrix(y_test, y_pred.round()).ravel()\n",
    "(tn, fp, fn, tp)"
   ]
  },
  {
   "cell_type": "code",
   "execution_count": 10,
   "metadata": {},
   "outputs": [
    {
     "data": {
      "image/png": "[encoded data removed]",
      "text/plain": [
       "<matplotlib.figure.Figure at 0x1a12dc3ef0>"
      ]
     },
     "metadata": {},
     "output_type": "display_data"
    },
    {
     "data": {
      "image/png": "[encoded data removed]",
      "text/plain": [
       "<matplotlib.figure.Figure at 0x1c2734f860>"
      ]
     },
     "metadata": {},
     "output_type": "display_data"
    }
   ],
   "source": [
    "def plotCurve(y_test1,y_pred,name):   \n",
    "    fpr, tpr, thresholds = metrics.roc_curve(y_test1, y_pred)\n",
    "    roc_auc = metrics.auc(fpr, tpr)\n",
    "    plt.title('Receiver Operating Characteristic')\n",
    "    plt.plot(fpr, tpr, 'b', label = 'AUC = %0.2f' % roc_auc)\n",
    "    plt.legend(loc = 'lower right')\n",
    "    plt.plot([0, 1], [0, 1],'r--')\n",
    "    plt.xlim([0, 1])\n",
    "    plt.ylim([0, 1])\n",
    "    plt.ylabel('True Positive Rate')\n",
    "    plt.xlabel('False Positive Rate')\n",
    "    name = '../'+name+'.png'\n",
    "    plt.savefig(name)\n",
    "    plt.show()\n",
    "    return roc_auc\n",
    "auc = plotCurve(y_test,y_pred.round(),'svm-aoc')\n",
    "\n",
    "binary = confusion_matrix(y_test,y_pred.round())\n",
    "fig, ax = plot_confusion_matrix(conf_mat=binary)\n",
    "n = '../svm.png'\n",
    "plt.savefig(n)\n",
    "plt.show()"
   ]
  },
  {
   "cell_type": "code",
   "execution_count": 11,
   "metadata": {
    "collapsed": true
   },
   "outputs": [],
   "source": [
    "precision = round(tp/(tp+fp),2)\n",
    "recall = round(tp/(tp+fn),2)\n",
    "fmeasure = round(2*((precision*recall)/(precision+recall)),2)\n",
    "rej = round(tn/(tn+fp),2)\n",
    "acc = round((tn+tp)/(tn+tp+fp+fn),2)"
   ]
  },
  {
   "cell_type": "code",
   "execution_count": 12,
   "metadata": {
    "scrolled": true
   },
   "outputs": [
    {
     "name": "stdout",
     "output_type": "stream",
     "text": [
      "1.0 0.01 0.02 1.0 0.54\n"
     ]
    }
   ],
   "source": [
    "print(precision,recall,fmeasure,rej,acc)"
   ]
  },
  {
   "cell_type": "code",
   "execution_count": 13,
   "metadata": {},
   "outputs": [
    {
     "name": "stderr",
     "output_type": "stream",
     "text": [
      "/Users/dweepa/anaconda/lib/python3.6/site-packages/sklearn/svm/base.py:196: FutureWarning: The default value of gamma will change from 'auto' to 'scale' in version 0.22 to account better for unscaled features. Set gamma explicitly to 'auto' or 'scale' to avoid this warning.\n",
      "  \"avoid this warning.\", FutureWarning)\n",
      "/Users/dweepa/anaconda/lib/python3.6/site-packages/sklearn/metrics/classification.py:1143: UndefinedMetricWarning: F-score is ill-defined and being set to 0.0 in labels with no predicted samples.\n",
      "  'precision', 'predicted', average, warn_for)\n",
      "/Users/dweepa/anaconda/lib/python3.6/site-packages/sklearn/svm/base.py:196: FutureWarning: The default value of gamma will change from 'auto' to 'scale' in version 0.22 to account better for unscaled features. Set gamma explicitly to 'auto' or 'scale' to avoid this warning.\n",
      "  \"avoid this warning.\", FutureWarning)\n",
      "/Users/dweepa/anaconda/lib/python3.6/site-packages/sklearn/svm/base.py:196: FutureWarning: The default value of gamma will change from 'auto' to 'scale' in version 0.22 to account better for unscaled features. Set gamma explicitly to 'auto' or 'scale' to avoid this warning.\n",
      "  \"avoid this warning.\", FutureWarning)\n",
      "/Users/dweepa/anaconda/lib/python3.6/site-packages/sklearn/svm/base.py:196: FutureWarning: The default value of gamma will change from 'auto' to 'scale' in version 0.22 to account better for unscaled features. Set gamma explicitly to 'auto' or 'scale' to avoid this warning.\n",
      "  \"avoid this warning.\", FutureWarning)\n",
      "/Users/dweepa/anaconda/lib/python3.6/site-packages/sklearn/metrics/classification.py:1143: UndefinedMetricWarning: F-score is ill-defined and being set to 0.0 in labels with no predicted samples.\n",
      "  'precision', 'predicted', average, warn_for)\n",
      "/Users/dweepa/anaconda/lib/python3.6/site-packages/sklearn/svm/base.py:196: FutureWarning: The default value of gamma will change from 'auto' to 'scale' in version 0.22 to account better for unscaled features. Set gamma explicitly to 'auto' or 'scale' to avoid this warning.\n",
      "  \"avoid this warning.\", FutureWarning)\n",
      "/Users/dweepa/anaconda/lib/python3.6/site-packages/sklearn/metrics/classification.py:1143: UndefinedMetricWarning: F-score is ill-defined and being set to 0.0 in labels with no predicted samples.\n",
      "  'precision', 'predicted', average, warn_for)\n",
      "/Users/dweepa/anaconda/lib/python3.6/site-packages/sklearn/svm/base.py:196: FutureWarning: The default value of gamma will change from 'auto' to 'scale' in version 0.22 to account better for unscaled features. Set gamma explicitly to 'auto' or 'scale' to avoid this warning.\n",
      "  \"avoid this warning.\", FutureWarning)\n",
      "/Users/dweepa/anaconda/lib/python3.6/site-packages/sklearn/metrics/classification.py:1143: UndefinedMetricWarning: F-score is ill-defined and being set to 0.0 in labels with no predicted samples.\n",
      "  'precision', 'predicted', average, warn_for)\n",
      "/Users/dweepa/anaconda/lib/python3.6/site-packages/sklearn/svm/base.py:196: FutureWarning: The default value of gamma will change from 'auto' to 'scale' in version 0.22 to account better for unscaled features. Set gamma explicitly to 'auto' or 'scale' to avoid this warning.\n",
      "  \"avoid this warning.\", FutureWarning)\n",
      "/Users/dweepa/anaconda/lib/python3.6/site-packages/sklearn/metrics/classification.py:1143: UndefinedMetricWarning: F-score is ill-defined and being set to 0.0 in labels with no predicted samples.\n",
      "  'precision', 'predicted', average, warn_for)\n",
      "/Users/dweepa/anaconda/lib/python3.6/site-packages/sklearn/svm/base.py:196: FutureWarning: The default value of gamma will change from 'auto' to 'scale' in version 0.22 to account better for unscaled features. Set gamma explicitly to 'auto' or 'scale' to avoid this warning.\n",
      "  \"avoid this warning.\", FutureWarning)\n",
      "/Users/dweepa/anaconda/lib/python3.6/site-packages/sklearn/metrics/classification.py:1143: UndefinedMetricWarning: F-score is ill-defined and being set to 0.0 in labels with no predicted samples.\n",
      "  'precision', 'predicted', average, warn_for)\n",
      "/Users/dweepa/anaconda/lib/python3.6/site-packages/sklearn/svm/base.py:196: FutureWarning: The default value of gamma will change from 'auto' to 'scale' in version 0.22 to account better for unscaled features. Set gamma explicitly to 'auto' or 'scale' to avoid this warning.\n",
      "  \"avoid this warning.\", FutureWarning)\n",
      "/Users/dweepa/anaconda/lib/python3.6/site-packages/sklearn/metrics/classification.py:1143: UndefinedMetricWarning: F-score is ill-defined and being set to 0.0 in labels with no predicted samples.\n",
      "  'precision', 'predicted', average, warn_for)\n",
      "/Users/dweepa/anaconda/lib/python3.6/site-packages/sklearn/svm/base.py:196: FutureWarning: The default value of gamma will change from 'auto' to 'scale' in version 0.22 to account better for unscaled features. Set gamma explicitly to 'auto' or 'scale' to avoid this warning.\n",
      "  \"avoid this warning.\", FutureWarning)\n",
      "/Users/dweepa/anaconda/lib/python3.6/site-packages/sklearn/metrics/classification.py:1143: UndefinedMetricWarning: F-score is ill-defined and being set to 0.0 in labels with no predicted samples.\n",
      "  'precision', 'predicted', average, warn_for)\n"
     ]
    },
    {
     "data": {
      "text/plain": [
       "(0.3616720159434137, 0.013028267163450302)"
      ]
     },
     "execution_count": 13,
     "metadata": {},
     "output_type": "execute_result"
    }
   ],
   "source": [
    "clf=svm.SVC()\n",
    "scores = cross_val_score(clf, data, label, cv=10, scoring='f1_macro')\n",
    "scores.mean(),scores.std()              "
   ]
  },
  {
   "cell_type": "code",
   "execution_count": null,
   "metadata": {
    "collapsed": true
   },
   "outputs": [],
   "source": []
  }
 ],
 "metadata": {
  "kernelspec": {
   "display_name": "Python 3",
   "language": "python",
   "name": "python3"
  },
  "language_info": {
   "codemirror_mode": {
    "name": "ipython",
    "version": 3
   },
   "file_extension": ".py",
   "mimetype": "text/x-python",
   "name": "python",
   "nbconvert_exporter": "python",
   "pygments_lexer": "ipython3",
   "version": "3.6.8"
  }
 },
 "nbformat": 4,
 "nbformat_minor": 2
}
